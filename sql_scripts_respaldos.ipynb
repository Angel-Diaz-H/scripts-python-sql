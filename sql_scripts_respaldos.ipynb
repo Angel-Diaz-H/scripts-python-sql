{
  "nbformat": 4,
  "nbformat_minor": 0,
  "metadata": {
    "colab": {
      "provenance": [],
      "authorship_tag": "ABX9TyNdI0I27hLJrWgFCdups1iQ",
      "include_colab_link": true
    },
    "kernelspec": {
      "name": "python3",
      "display_name": "Python 3"
    },
    "language_info": {
      "name": "python"
    }
  },
  "cells": [
    {
      "cell_type": "markdown",
      "metadata": {
        "id": "view-in-github",
        "colab_type": "text"
      },
      "source": [
        "<a href=\"https://colab.research.google.com/github/Angel-Diaz-H/scripts-python-sql/blob/main/sql_scripts_respaldos.ipynb\" target=\"_parent\"><img src=\"https://colab.research.google.com/assets/colab-badge.svg\" alt=\"Open In Colab\"/></a>"
      ]
    },
    {
      "cell_type": "code",
      "execution_count": null,
      "metadata": {
        "id": "huKm1767l72u"
      },
      "outputs": [],
      "source": [
        "import re\n",
        "\n",
        "archivo_entrada = \"/content/file3.sql\"\n",
        "archivo_salida = \"backup.sql\"\n",
        "\n",
        "#leer archivo\n",
        "with open(archivo_entrada, \"r\") as f:\n",
        "    contenido = f.read()\n",
        "\n",
        "# Dividir el archivo en bloques por cada sentencia que termina con ';'\n",
        "sentencias = re.split(r';\\s*\\n?', contenido, flags=re.MULTILINE)\n",
        "\n",
        "selects_generados = []\n",
        "\n",
        "for sentencia in sentencias:\n",
        "    sentencia = sentencia.strip()\n",
        "    #ignorar y saltar comentarios\n",
        "    if not sentencia or sentencia.startswith(\"--\"):\n",
        "        continue\n",
        "\n",
        "    #delete\n",
        "    if sentencia.upper().startswith(\"DELETE FROM\"):\n",
        "        #'DELETE' por 'SELECT *'\n",
        "        linea_select = re.sub(r\"DELETE FROM\\s+\", \"SELECT * FROM \", sentencia, flags=re.IGNORECASE)\n",
        "        selects_generados.append(linea_select + \";\")  #Agregar ;\n",
        "\n",
        "    #UPDATE\n",
        "    elif sentencia.upper().startswith(\"UPDATE\"):\n",
        "        #search tabla después de UPDATE\n",
        "        tabla_match = re.match(r\"UPDATE\\s+([^\\s]+)\", sentencia, re.IGNORECASE)\n",
        "        if tabla_match:\n",
        "            tabla = tabla_match.group(1)\n",
        "            #WHERE (en todo el bloque)\n",
        "            where_idx = sentencia.upper().find(\"WHERE\")\n",
        "            if where_idx != -1:\n",
        "                condicion = sentencia[where_idx:]\n",
        "                linea_select = f\"SELECT * FROM {tabla} {condicion}\"\n",
        "                selects_generados.append(linea_select + \";\")\n",
        "\n",
        "#save\n",
        "with open(archivo_salida, \"w\") as f:\n",
        "    for sel in selects_generados:\n",
        "        f.write(sel + \"\\n\")\n",
        "\n",
        "print(f\"{len(selects_generados)} SELECTs respaldados en '{archivo_salida}'\")\n"
      ]
    },
    {
      "cell_type": "code",
      "source": [
        "import re\n",
        "\n",
        "archivo_entrada = \"/content/file4.sql\"\n",
        "archivo_salida = \"backup_agrupado.sql\" # Nombre del archivo de salida\n",
        "\n",
        "# leer archivo\n",
        "with open(archivo_entrada, \"r\") as f:\n",
        "    contenido = f.read()\n",
        "\n",
        "# Dividir el archivo en bloques por cada sentencia que termina con ';'\n",
        "sentencias = re.split(r';\\s*\\n?', contenido, flags=re.MULTILINE)\n",
        "\n",
        "# Diccionario para agrupar condiciones por tabla y columna\n",
        "condiciones_agrupadas = {} # Formato: {('tabla', 'columna'): [valor1, valor2, ...]}\n",
        "\n",
        "for sentencia in sentencias:\n",
        "    sentencia = sentencia.strip()\n",
        "    # ignorar y saltar comentarios\n",
        "    if not sentencia or sentencia.startswith(\"--\"):\n",
        "        continue\n",
        "\n",
        "    # DELETE\n",
        "    if sentencia.upper().startswith(\"DELETE FROM\"):\n",
        "        # Extraer tabla\n",
        "        tabla_match = re.match(r\"DELETE FROM\\s+([^\\s]+)\", sentencia, re.IGNORECASE)\n",
        "        if tabla_match:\n",
        "            tabla = tabla_match.group(1)\n",
        "            # Extraer la condición WHERE\n",
        "            where_idx = sentencia.upper().find(\"WHERE\")\n",
        "            if where_idx != -1:\n",
        "                condicion_completa = sentencia[where_idx + len(\"WHERE\"):].strip()\n",
        "\n",
        "                # Extraer la columna y el valor para la condición IN\n",
        "                match_in = re.match(r\"(\\w+)\\s*=\\s*(.*)\", condicion_completa)\n",
        "                if match_in:\n",
        "                    columna = match_in.group(1).strip()\n",
        "                    valor = match_in.group(2).strip()\n",
        "\n",
        "                    # Agrupar la condición\n",
        "                    if (tabla, columna) not in condiciones_agrupadas:\n",
        "                        condiciones_agrupadas[(tabla, columna)] = []\n",
        "                    # Asegurarse de no agregar valores duplicados si eso es deseado\n",
        "                    if valor not in condiciones_agrupadas[(tabla, columna)]:\n",
        "                         condiciones_agrupadas[(tabla, columna)].append(valor)\n",
        "\n",
        "    # UPDATE (mantener lógica existente si la necesitas, o adaptar para agrupar si aplica)\n",
        "    elif sentencia.upper().startswith(\"UPDATE\"):\n",
        "        # search tabla después de UPDATE\n",
        "        tabla_match = re.match(r\"UPDATE\\s+([^\\s]+)\", sentencia, re.IGNORECASE)\n",
        "        if tabla_match:\n",
        "            tabla = tabla_match.group(1)\n",
        "            # WHERE (en todo el bloque)\n",
        "            where_idx = sentencia.upper().find(\"WHERE\")\n",
        "            if where_idx != -1:\n",
        "                condicion = sentencia[where_idx:]\n",
        "                linea_select = f\"SELECT * FROM {tabla} {condicion}\"\n",
        "                # Aquí podrías decidir si quieres agrupar UPDATEs también,\n",
        "                # o mantenerlos separados como en tu código original.\n",
        "                # Para este ejemplo, los mantenemos separados y no los incluimos en la salida agrupada de DELETEs.\n",
        "                # Si quieres incluir SELECTs de UPDATEs, necesitarías otro mecanismo de almacenamiento.\n",
        "\n",
        "\n",
        "# Generar sentencias DELETE agrupadas (o SELECT, si ese es tu objetivo final)\n",
        "sentencias_agrupadas_generadas = []\n",
        "for (tabla, columna), valores in condiciones_agrupadas.items():\n",
        "    if valores: # Solo generar si hay valores para la condición IN\n",
        "        # Formatear los valores para la cláusula IN\n",
        "        valores_formateados = \", \".join(valores)\n",
        "        # Generar la sentencia DELETE agrupada\n",
        "        # Si tu objetivo es generar SELECTs para backup, cambia \"DELETE FROM\" a \"SELECT *\"\n",
        "        linea_agrupada = f\"DELETE FROM {tabla} WHERE {columna} IN ({valores_formateados});\"\n",
        "        sentencias_agrupadas_generadas.append(linea_agrupada)\n",
        "\n",
        "# save\n",
        "with open(archivo_salida, \"w\") as f:\n",
        "    for sel in sentencias_agrupadas_generadas:\n",
        "        f.write(sel + \"\\n\")\n",
        "\n",
        "print(f\"{len(sentencias_agrupadas_generadas)} sentencias respaldadas (agrupadas) en '{archivo_salida}'\")"
      ],
      "metadata": {
        "colab": {
          "base_uri": "https://localhost:8080/"
        },
        "id": "xs_dxtfvySWd",
        "outputId": "75b959c0-4184-4ea9-bfa8-de1ee25ff76c"
      },
      "execution_count": 10,
      "outputs": [
        {
          "output_type": "stream",
          "name": "stdout",
          "text": [
            "2 sentencias respaldadas (agrupadas) en 'backup_agrupado.sql'\n"
          ]
        }
      ]
    }
  ]
}