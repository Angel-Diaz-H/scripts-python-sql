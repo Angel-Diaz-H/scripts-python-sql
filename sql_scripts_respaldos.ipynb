{
  "nbformat": 4,
  "nbformat_minor": 0,
  "metadata": {
    "colab": {
      "provenance": [],
      "authorship_tag": "ABX9TyMS7uih0+2c7BLIy4JGPb6E",
      "include_colab_link": true
    },
    "kernelspec": {
      "name": "python3",
      "display_name": "Python 3"
    },
    "language_info": {
      "name": "python"
    }
  },
  "cells": [
    {
      "cell_type": "markdown",
      "metadata": {
        "id": "view-in-github",
        "colab_type": "text"
      },
      "source": [
        "<a href=\"https://colab.research.google.com/github/Angel-Diaz-H/scripts-python-sql/blob/main/sql_scripts_respaldos.ipynb\" target=\"_parent\"><img src=\"https://colab.research.google.com/assets/colab-badge.svg\" alt=\"Open In Colab\"/></a>"
      ]
    },
    {
      "cell_type": "code",
      "execution_count": 7,
      "metadata": {
        "id": "huKm1767l72u",
        "colab": {
          "base_uri": "https://localhost:8080/"
        },
        "outputId": "d88017f8-14d9-4fe4-a5c0-acb3622ee3a2"
      },
      "outputs": [
        {
          "output_type": "stream",
          "name": "stdout",
          "text": [
            "✅ ¡Listo! Se generaron 15 SELECTs respaldados en 'scripts_SELECT_generados.sql' 🎉\n"
          ]
        }
      ],
      "source": [
        "import re\n",
        "\n",
        "archivo_entrada = \"/content/file3.sql\"\n",
        "archivo_salida = \"backup.sql\"\n",
        "\n",
        "#leer archivo\n",
        "with open(archivo_entrada, \"r\") as f:\n",
        "    contenido = f.read()\n",
        "\n",
        "# Dividir el archivo en bloques por cada sentencia que termina con ';'\n",
        "sentencias = re.split(r';\\s*\\n?', contenido, flags=re.MULTILINE)\n",
        "\n",
        "selects_generados = []\n",
        "\n",
        "for sentencia in sentencias:\n",
        "    sentencia = sentencia.strip()\n",
        "    #ignorar y saltar comentarios\n",
        "    if not sentencia or sentencia.startswith(\"--\"):\n",
        "        continue\n",
        "\n",
        "    #delete\n",
        "    if sentencia.upper().startswith(\"DELETE FROM\"):\n",
        "        #'DELETE' por 'SELECT *'\n",
        "        linea_select = re.sub(r\"DELETE FROM\\s+\", \"SELECT * FROM \", sentencia, flags=re.IGNORECASE)\n",
        "        selects_generados.append(linea_select + \";\")  #Agregar ;\n",
        "\n",
        "    #UPDATE\n",
        "    elif sentencia.upper().startswith(\"UPDATE\"):\n",
        "        #search tabla después de UPDATE\n",
        "        tabla_match = re.match(r\"UPDATE\\s+([^\\s]+)\", sentencia, re.IGNORECASE)\n",
        "        if tabla_match:\n",
        "            tabla = tabla_match.group(1)\n",
        "            #WHERE (en todo el bloque)\n",
        "            where_idx = sentencia.upper().find(\"WHERE\")\n",
        "            if where_idx != -1:\n",
        "                condicion = sentencia[where_idx:]\n",
        "                linea_select = f\"SELECT * FROM {tabla} {condicion}\"\n",
        "                selects_generados.append(linea_select + \";\")\n",
        "\n",
        "#save\n",
        "with open(archivo_salida, \"w\") as f:\n",
        "    for sel in selects_generados:\n",
        "        f.write(sel + \"\\n\")\n",
        "\n",
        "print(f\"{len(selects_generados)} SELECTs respaldados en '{archivo_salida}' 🎉\")\n"
      ]
    },
    {
      "cell_type": "code",
      "source": [
        "import os\n",
        "\n",
        "nombre_archivo = \"file1.v2.sql\"\n",
        "ubicacion_archivo = os.path.abspath(nombre_archivo)\n",
        "\n",
        "print(f\"La ubicación del archivo '{nombre_archivo}' es: {ubicacion_archivo}\")"
      ],
      "metadata": {
        "colab": {
          "base_uri": "https://localhost:8080/"
        },
        "id": "yrlD_aMooBUE",
        "outputId": "8510b4e5-7fba-4dfa-dbaa-61d27616b4d5"
      },
      "execution_count": 2,
      "outputs": [
        {
          "output_type": "stream",
          "name": "stdout",
          "text": [
            "La ubicación del archivo 'file1.v2.sql' es: /content/file1.v2.sql\n"
          ]
        }
      ]
    },
    {
      "cell_type": "markdown",
      "source": [],
      "metadata": {
        "id": "3NuvAaHDoBmj"
      }
    }
  ]
}